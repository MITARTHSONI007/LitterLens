{
 "cells": [
  {
   "cell_type": "code",
   "execution_count": 1,
   "id": "ef40eae0-94e8-46e4-8383-1c1162382b7c",
   "metadata": {
    "scrolled": true
   },
   "outputs": [
    {
     "name": "stdout",
     "output_type": "stream",
     "text": [
      "Collecting streamlit\n",
      "  Using cached streamlit-1.47.0-py3-none-any.whl (9.9 MB)\n",
      "Requirement already satisfied: pillow<12,>=7.1.0 in d:\\yolo\\yoloenv\\lib\\site-packages (from streamlit) (10.2.0)\n",
      "Requirement already satisfied: click<9,>=7.0 in d:\\yolo\\yoloenv\\lib\\site-packages (from streamlit) (8.1.8)\n",
      "Collecting gitpython!=3.1.19,<4,>=3.0.7\n",
      "  Using cached GitPython-3.1.44-py3-none-any.whl (207 kB)\n",
      "Requirement already satisfied: cachetools<7,>=4.0 in d:\\yolo\\yoloenv\\lib\\site-packages (from streamlit) (5.5.0)\n",
      "Requirement already satisfied: pandas<3,>=1.4.0 in d:\\yolo\\yoloenv\\lib\\site-packages (from streamlit) (2.2.3)\n",
      "Collecting pyarrow>=7.0\n",
      "  Using cached pyarrow-21.0.0-cp310-cp310-win_amd64.whl (26.2 MB)\n",
      "Collecting tenacity<10,>=8.1.0\n",
      "  Using cached tenacity-9.1.2-py3-none-any.whl (28 kB)\n",
      "Collecting pydeck<1,>=0.8.0b4\n",
      "  Using cached pydeck-0.9.1-py2.py3-none-any.whl (6.9 MB)\n",
      "Requirement already satisfied: requests<3,>=2.27 in d:\\yolo\\yoloenv\\lib\\site-packages (from streamlit) (2.32.3)\n",
      "Requirement already satisfied: typing-extensions<5,>=4.4.0 in d:\\yolo\\yoloenv\\lib\\site-packages (from streamlit) (4.12.2)\n",
      "Requirement already satisfied: blinker<2,>=1.5.0 in d:\\yolo\\yoloenv\\lib\\site-packages (from streamlit) (1.9.0)\n",
      "Requirement already satisfied: numpy<3,>=1.23 in d:\\yolo\\yoloenv\\lib\\site-packages (from streamlit) (1.26.4)\n",
      "Requirement already satisfied: protobuf<7,>=3.20 in d:\\yolo\\yoloenv\\lib\\site-packages (from streamlit) (5.29.4)\n",
      "Requirement already satisfied: toml<2,>=0.10.1 in d:\\yolo\\yoloenv\\lib\\site-packages (from streamlit) (0.10.2)\n",
      "Collecting watchdog<7,>=2.1.5\n",
      "  Using cached watchdog-6.0.0-py3-none-win_amd64.whl (79 kB)\n",
      "Requirement already satisfied: tornado!=6.5.0,<7,>=6.0.3 in d:\\yolo\\yoloenv\\lib\\site-packages (from streamlit) (6.4.2)\n",
      "Collecting altair<6,>=4.0\n",
      "  Using cached altair-5.5.0-py3-none-any.whl (731 kB)\n",
      "Requirement already satisfied: packaging<26,>=20 in d:\\yolo\\yoloenv\\lib\\site-packages (from streamlit) (24.2)\n",
      "Requirement already satisfied: narwhals>=1.14.2 in d:\\yolo\\yoloenv\\lib\\site-packages (from altair<6,>=4.0->streamlit) (1.27.1)\n",
      "Requirement already satisfied: jinja2 in d:\\yolo\\yoloenv\\lib\\site-packages (from altair<6,>=4.0->streamlit) (3.1.4)\n",
      "Requirement already satisfied: jsonschema>=3.0 in d:\\yolo\\yoloenv\\lib\\site-packages (from altair<6,>=4.0->streamlit) (4.23.0)\n",
      "Requirement already satisfied: colorama in d:\\yolo\\yoloenv\\lib\\site-packages (from click<9,>=7.0->streamlit) (0.4.6)\n",
      "Collecting gitdb<5,>=4.0.1\n",
      "  Using cached gitdb-4.0.12-py3-none-any.whl (62 kB)\n",
      "Requirement already satisfied: tzdata>=2022.7 in d:\\yolo\\yoloenv\\lib\\site-packages (from pandas<3,>=1.4.0->streamlit) (2024.2)\n",
      "Requirement already satisfied: python-dateutil>=2.8.2 in d:\\yolo\\yoloenv\\lib\\site-packages (from pandas<3,>=1.4.0->streamlit) (2.9.0.post0)\n",
      "Requirement already satisfied: pytz>=2020.1 in d:\\yolo\\yoloenv\\lib\\site-packages (from pandas<3,>=1.4.0->streamlit) (2022.7.1)\n",
      "Requirement already satisfied: urllib3<3,>=1.21.1 in d:\\yolo\\yoloenv\\lib\\site-packages (from requests<3,>=2.27->streamlit) (1.26.20)\n",
      "Requirement already satisfied: idna<4,>=2.5 in d:\\yolo\\yoloenv\\lib\\site-packages (from requests<3,>=2.27->streamlit) (3.10)\n",
      "Requirement already satisfied: certifi>=2017.4.17 in d:\\yolo\\yoloenv\\lib\\site-packages (from requests<3,>=2.27->streamlit) (2024.8.30)\n",
      "Requirement already satisfied: charset-normalizer<4,>=2 in d:\\yolo\\yoloenv\\lib\\site-packages (from requests<3,>=2.27->streamlit) (3.4.0)\n",
      "Collecting smmap<6,>=3.0.1\n",
      "  Using cached smmap-5.0.2-py3-none-any.whl (24 kB)\n",
      "Requirement already satisfied: MarkupSafe>=2.0 in d:\\yolo\\yoloenv\\lib\\site-packages (from jinja2->altair<6,>=4.0->streamlit) (3.0.2)\n",
      "Requirement already satisfied: referencing>=0.28.4 in d:\\yolo\\yoloenv\\lib\\site-packages (from jsonschema>=3.0->altair<6,>=4.0->streamlit) (0.35.1)\n",
      "Requirement already satisfied: rpds-py>=0.7.1 in d:\\yolo\\yoloenv\\lib\\site-packages (from jsonschema>=3.0->altair<6,>=4.0->streamlit) (0.22.3)\n",
      "Requirement already satisfied: jsonschema-specifications>=2023.03.6 in d:\\yolo\\yoloenv\\lib\\site-packages (from jsonschema>=3.0->altair<6,>=4.0->streamlit) (2024.10.1)\n",
      "Requirement already satisfied: attrs>=22.2.0 in d:\\yolo\\yoloenv\\lib\\site-packages (from jsonschema>=3.0->altair<6,>=4.0->streamlit) (24.2.0)\n",
      "Requirement already satisfied: six>=1.5 in d:\\yolo\\yoloenv\\lib\\site-packages (from python-dateutil>=2.8.2->pandas<3,>=1.4.0->streamlit) (1.17.0)\n",
      "Installing collected packages: watchdog, tenacity, smmap, pyarrow, pydeck, gitdb, gitpython, altair, streamlit\n",
      "Successfully installed altair-5.5.0 gitdb-4.0.12 gitpython-3.1.44 pyarrow-21.0.0 pydeck-0.9.1 smmap-5.0.2 streamlit-1.47.0 tenacity-9.1.2 watchdog-6.0.0\n"
     ]
    },
    {
     "name": "stderr",
     "output_type": "stream",
     "text": [
      "WARNING: Ignoring invalid distribution -illow (d:\\yolo\\yoloenv\\lib\\site-packages)\n",
      "WARNING: Ignoring invalid distribution -illow (d:\\yolo\\yoloenv\\lib\\site-packages)\n",
      "WARNING: Ignoring invalid distribution -illow (d:\\yolo\\yoloenv\\lib\\site-packages)\n",
      "WARNING: Ignoring invalid distribution -illow (d:\\yolo\\yoloenv\\lib\\site-packages)\n",
      "WARNING: Ignoring invalid distribution -illow (d:\\yolo\\yoloenv\\lib\\site-packages)\n",
      "WARNING: Ignoring invalid distribution -illow (d:\\yolo\\yoloenv\\lib\\site-packages)\n",
      "WARNING: Ignoring invalid distribution -illow (d:\\yolo\\yoloenv\\lib\\site-packages)\n",
      "WARNING: Ignoring invalid distribution -illow (d:\\yolo\\yoloenv\\lib\\site-packages)\n",
      "WARNING: Ignoring invalid distribution -illow (d:\\yolo\\yoloenv\\lib\\site-packages)\n",
      "WARNING: Ignoring invalid distribution -illow (d:\\yolo\\yoloenv\\lib\\site-packages)\n",
      "WARNING: Ignoring invalid distribution -illow (d:\\yolo\\yoloenv\\lib\\site-packages)\n",
      "WARNING: Ignoring invalid distribution -illow (d:\\yolo\\yoloenv\\lib\\site-packages)\n",
      "WARNING: Ignoring invalid distribution -illow (d:\\yolo\\yoloenv\\lib\\site-packages)\n",
      "WARNING: Ignoring invalid distribution -illow (d:\\yolo\\yoloenv\\lib\\site-packages)\n",
      "WARNING: Ignoring invalid distribution -illow (d:\\yolo\\yoloenv\\lib\\site-packages)\n",
      "\n",
      "[notice] A new release of pip available: 22.3.1 -> 25.1.1\n",
      "[notice] To update, run: python.exe -m pip install --upgrade pip\n"
     ]
    }
   ],
   "source": [
    "!pip install streamlit"
   ]
  },
  {
   "cell_type": "code",
   "execution_count": 2,
   "id": "020d0984-d6eb-4ad1-9d6a-88bdf1100212",
   "metadata": {},
   "outputs": [
    {
     "name": "stdout",
     "output_type": "stream",
     "text": [
      "Error reading from C:\\Users\\MITARTHSONI\\AppData\\Roaming\\Ultralytics\\settings.json: \"No Ultralytics setting 'openvino_msg'. \\nView Ultralytics Settings with 'yolo settings' or at 'C:\\\\Users\\\\MITARTHSONI\\\\AppData\\\\Roaming\\\\Ultralytics\\\\settings.json'\\nUpdate Settings with 'yolo settings key=value', i.e. 'yolo settings runs_dir=path/to/dir'. For help see https://docs.ultralytics.com/quickstart/#ultralytics-settings.\"\n",
      "Creating new Ultralytics Settings v0.0.6 file  \n",
      "View Ultralytics Settings with 'yolo settings' or at 'C:\\Users\\MITARTHSONI\\AppData\\Roaming\\Ultralytics\\settings.json'\n",
      "Update Settings with 'yolo settings key=value', i.e. 'yolo settings runs_dir=path/to/dir'. For help see https://docs.ultralytics.com/quickstart/#ultralytics-settings.\n"
     ]
    },
    {
     "name": "stderr",
     "output_type": "stream",
     "text": [
      "2025-07-18 09:39:56.761 WARNING streamlit.runtime.scriptrunner_utils.script_run_context: Thread 'MainThread': missing ScriptRunContext! This warning can be ignored when running in bare mode.\n",
      "2025-07-18 09:39:57.040 \n",
      "  \u001b[33m\u001b[1mWarning:\u001b[0m to view this Streamlit app on a browser, run it with the following\n",
      "  command:\n",
      "\n",
      "    streamlit run D:\\YOLO\\yoloenv\\lib\\site-packages\\ipykernel_launcher.py [ARGUMENTS]\n",
      "2025-07-18 09:39:57.042 Thread 'MainThread': missing ScriptRunContext! This warning can be ignored when running in bare mode.\n",
      "2025-07-18 09:39:57.045 Thread 'MainThread': missing ScriptRunContext! This warning can be ignored when running in bare mode.\n",
      "2025-07-18 09:39:57.048 Thread 'MainThread': missing ScriptRunContext! This warning can be ignored when running in bare mode.\n",
      "2025-07-18 09:39:57.050 Thread 'MainThread': missing ScriptRunContext! This warning can be ignored when running in bare mode.\n",
      "2025-07-18 09:39:57.051 Thread 'MainThread': missing ScriptRunContext! This warning can be ignored when running in bare mode.\n",
      "2025-07-18 09:39:57.061 Thread 'MainThread': missing ScriptRunContext! This warning can be ignored when running in bare mode.\n",
      "2025-07-18 09:39:57.062 Thread 'MainThread': missing ScriptRunContext! This warning can be ignored when running in bare mode.\n",
      "2025-07-18 09:39:57.062 Thread 'MainThread': missing ScriptRunContext! This warning can be ignored when running in bare mode.\n"
     ]
    }
   ],
   "source": [
    "# app.py\n",
    "import streamlit as st\n",
    "from PIL import Image\n",
    "import numpy as np\n",
    "import cv2\n",
    "from ultralytics import YOLO\n",
    "import tempfile\n",
    "\n",
    "# Load YOLOv8 model\n",
    "model = YOLO(\"object_detection_weights/best.pt\")  # Replace with your model path\n",
    "\n",
    "st.title(\"Garbage Detection with YOLOv8\")\n",
    "\n",
    "# Image uploader\n",
    "uploaded_file = st.file_uploader(\"Upload an image\", type=[\"jpg\", \"jpeg\", \"png\"])\n",
    "\n",
    "if uploaded_file:\n",
    "    # Display image\n",
    "    image = Image.open(uploaded_file)\n",
    "    st.image(image, caption='Uploaded Image', use_column_width=True)\n",
    "\n",
    "    # Run detection\n",
    "    if st.button(\"Detect Garbage\"):\n",
    "        # Save the image to a temp file for YOLO\n",
    "        with tempfile.NamedTemporaryFile(delete=False, suffix=\".jpg\") as tmp_file:\n",
    "            image.save(tmp_file.name)\n",
    "            results = model(tmp_file.name)[0]  # Run inference\n",
    "\n",
    "        # Draw bounding boxes\n",
    "        boxes = results.boxes\n",
    "        annotated_image = np.array(image).copy()\n",
    "\n",
    "        for box in boxes:\n",
    "            x1, y1, x2, y2 = map(int, box.xyxy[0])\n",
    "            cls = int(box.cls[0])\n",
    "            conf = box.conf[0]\n",
    "            label = f\"{model.names[cls]} {conf:.2f}\"\n",
    "\n",
    "            cv2.rectangle(annotated_image, (x1, y1), (x2, y2), (0, 255, 0), 2)\n",
    "            cv2.putText(annotated_image, label, (x1, y1 - 10),\n",
    "                        cv2.FONT_HERSHEY_SIMPLEX, 0.5, (0, 255, 0), 2)\n",
    "\n",
    "        st.image(annotated_image, caption='Detected Garbage', use_column_width=True)\n"
   ]
  },
  {
   "cell_type": "code",
   "execution_count": 8,
   "id": "394c8570-c719-49bc-89ed-c4cff346888b",
   "metadata": {},
   "outputs": [
    {
     "name": "stdout",
     "output_type": "stream",
     "text": [
      "\n",
      "image 1/1 D:\\YOLO\\yoloenv\\datasets\\AIProjetTeam1.v16-811v3.9.yolov8\\train\\images\\FD_1253_jpg.rf.87542d9014d658b1416b09f42b04ed0f.jpg: 640x640 1 can, 1 glass, 5 others, 9 plastics, 519.9ms\n",
      "Speed: 9.7ms preprocess, 519.9ms inference, 4.0ms postprocess per image at shape (1, 3, 640, 640)\n"
     ]
    }
   ],
   "source": [
    "from ultralytics import YOLO\n",
    "from PIL import Image\n",
    "import matplotlib.pyplot as plt\n",
    "import cv2\n",
    "import numpy as np\n",
    "\n",
    "# Load your trained model\n",
    "model = YOLO(\"object_detection_weights/best.pt\")\n",
    "\n",
    "# Load and prepare image\n",
    "image_path = r\"D:\\YOLO\\yoloenv\\datasets\\AIProjetTeam1.v16-811v3.9.yolov8\\train\\images\\FD_1253_jpg.rf.87542d9014d658b1416b09f42b04ed0f.jpg\"  # Replace with your image\n",
    "results = model(image_path)[0]\n",
    "\n",
    "# Load image for drawing\n",
    "img = cv2.imread(image_path)\n",
    "img = cv2.cvtColor(img, cv2.COLOR_BGR2RGB)\n",
    "\n",
    "# Draw boxes\n",
    "for box in results.boxes:\n",
    "    x1, y1, x2, y2 = map(int, box.xyxy[0])\n",
    "    conf = float(box.conf[0])\n",
    "    cls = int(box.cls[0])\n",
    "    label = f\"{model.names[cls]} {conf:.2f}\"\n",
    "\n",
    "    cv2.rectangle(img, (x1, y1), (x2, y2), (0,255,0), 2)\n",
    "    cv2.putText(img, label, (x1, y1 - 10), cv2.FONT_HERSHEY_SIMPLEX, \n",
    "                0.5, (0,255,0), 2)\n",
    "\n",
    "# Show image\n",
    "plt.imsave(\"test_image.jpg\",img)\n",
    "\n"
   ]
  },
  {
   "cell_type": "code",
   "execution_count": null,
   "id": "654ae679-d526-4024-bb57-156424635b9f",
   "metadata": {},
   "outputs": [],
   "source": []
  }
 ],
 "metadata": {
  "kernelspec": {
   "display_name": "Python 3 (ipykernel)",
   "language": "python",
   "name": "python3"
  },
  "language_info": {
   "codemirror_mode": {
    "name": "ipython",
    "version": 3
   },
   "file_extension": ".py",
   "mimetype": "text/x-python",
   "name": "python",
   "nbconvert_exporter": "python",
   "pygments_lexer": "ipython3",
   "version": "3.10.9"
  }
 },
 "nbformat": 4,
 "nbformat_minor": 5
}
